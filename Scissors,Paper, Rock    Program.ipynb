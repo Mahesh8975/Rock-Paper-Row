{
 "cells": [
  {
   "cell_type": "code",
   "execution_count": 2,
   "id": "939f1808",
   "metadata": {},
   "outputs": [
    {
     "ename": "IndentationError",
     "evalue": "unindent does not match any outer indentation level (<tokenize>, line 24)",
     "output_type": "error",
     "traceback": [
      "\u001b[1;36m  File \u001b[1;32m<tokenize>:24\u001b[1;36m\u001b[0m\n\u001b[1;33m    else:\u001b[0m\n\u001b[1;37m    ^\u001b[0m\n\u001b[1;31mIndentationError\u001b[0m\u001b[1;31m:\u001b[0m unindent does not match any outer indentation level\n"
     ]
    }
   ],
   "source": [
    "# creating function that pompts the user to choose rock,paper,scissors and return their choice.\n",
    "def get_user_choice():\n",
    "    user_choice = input(\"Choose Rock, Paper, Scissors: \").lower()\n",
    "    while user_choice not in ['rock','paper','scissors']:\n",
    "        print(\"Invalid Choice! Please choose rock, paper, scissors\")\n",
    "        user_choice = input(\"Choose Rock, Paper, Scissors: \").lower()\n",
    "    return user_choice\n",
    "\n",
    "# Creating a function to get User's Choice\n",
    "def get_computer_choice():\n",
    "    choice = ['rock','paper','scissors']\n",
    "    return random.choice(choices)\n",
    "\n",
    "# Creating the function to determine the winer\n",
    "def determine_winner(user_choice, computer_choice):\n",
    "    if user_choice == computer_choice:\n",
    "         return \"It's a Tie!\"\n",
    "    elif (\n",
    "          (user_choice == 'rock' and computer_choice == 'scissors') or\n",
    "          (user_choice == 'scissors' and computer_choice == 'paper') or\n",
    "          (user_choice == 'paper' and computer_choice == 'rock')\n",
    "   ):\n",
    "          return \"You Win!!\"\n",
    "        else:\n",
    "            return \"Computer Win!!\"\n",
    "        "
   ]
  },
  {
   "cell_type": "code",
   "execution_count": 4,
   "id": "5ca73a27",
   "metadata": {},
   "outputs": [],
   "source": [
    "# Creating a function to display the result\n",
    "def disply_result(user_choice, computer_choice, result):\n",
    "    print(f\"You Choose {user_choice}: \")\n",
    "    print(f\"Computer Choose {computer_choice}: \")\n",
    "    print(result)\n",
    "    \n",
    "    user_score = 0\n",
    "    computer_score = 0"
   ]
  },
  {
   "cell_type": "code",
   "execution_count": 6,
   "id": "96e372aa",
   "metadata": {},
   "outputs": [
    {
     "ename": "SyntaxError",
     "evalue": "invalid syntax (3465563095.py, line 21)",
     "output_type": "error",
     "traceback": [
      "\u001b[1;36m  Cell \u001b[1;32mIn[6], line 21\u001b[1;36m\u001b[0m\n\u001b[1;33m    elif play_again != 'yes'\u001b[0m\n\u001b[1;37m    ^\u001b[0m\n\u001b[1;31mSyntaxError\u001b[0m\u001b[1;31m:\u001b[0m invalid syntax\n"
     ]
    }
   ],
   "source": [
    "# Creating Main Game Loop\n",
    "while True:\n",
    "    user_choice = get_user_choice()\n",
    "    computer_choice = get_computer_choice()\n",
    "    result = determine_winner(user_choice,computer_choice)\n",
    "    display_result(user_choice,computer_choice,result)\n",
    "    \n",
    "    # Keeping Track of the scores\n",
    "    if result == \"You Win!!\":\n",
    "        user_score +=1\n",
    "    elif result == \"Computer Win!!\":\n",
    "        computer_score +=1\n",
    "        \n",
    "        \n",
    "        # Display scores\n",
    "        print(f\"Your Score: {user_score} , Computer Score: {computer_score}\")\n",
    "        \n",
    "        play_again = input(\"Do you want to play again?  (yes/no): \"). lower()\n",
    "        if play_again != 'no' and play_again != 'yes':\n",
    "            print(\"Please Enter a Valid Input!!\")\n",
    "            elif play_again != 'yes'\n",
    "            break\n",
    "            #if play_again != \"yes\"\n",
    "            # break\n",
    "            \n",
    "            \n",
    "            \n",
    "        \n",
    "        \n",
    "        \n",
    "        \n",
    "        \n",
    "        \n",
    "        \n",
    "        "
   ]
  },
  {
   "cell_type": "code",
   "execution_count": null,
   "id": "8116427b",
   "metadata": {},
   "outputs": [],
   "source": []
  }
 ],
 "metadata": {
  "kernelspec": {
   "display_name": "Python 3 (ipykernel)",
   "language": "python",
   "name": "python3"
  },
  "language_info": {
   "codemirror_mode": {
    "name": "ipython",
    "version": 3
   },
   "file_extension": ".py",
   "mimetype": "text/x-python",
   "name": "python",
   "nbconvert_exporter": "python",
   "pygments_lexer": "ipython3",
   "version": "3.11.5"
  }
 },
 "nbformat": 4,
 "nbformat_minor": 5
}
